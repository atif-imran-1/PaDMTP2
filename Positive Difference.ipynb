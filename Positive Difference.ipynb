{
 "cells": [
  {
   "cell_type": "markdown",
   "id": "8ce70f92",
   "metadata": {},
   "source": [
    "# Positive Difference Function"
   ]
  },
  {
   "cell_type": "code",
   "execution_count": null,
   "id": "fd96ae51",
   "metadata": {},
   "outputs": [],
   "source": [
    "import json\n",
    "import random\n",
    "import constraint\n",
    "from techniques.PaDMTP import padmtp_algo\n",
    "from techniques.RandomTesting import random_testing\n",
    "from techniques.AdaptiveRandomTesting import adaptive_random_testing\n",
    "from testcodes.difference import positive_difference as difference"
   ]
  },
  {
   "cell_type": "markdown",
   "id": "d2389ab0",
   "metadata": {},
   "source": [
    "### PaDMTP"
   ]
  },
  {
   "cell_type": "code",
   "execution_count": null,
   "id": "f15a51bc",
   "metadata": {},
   "outputs": [],
   "source": [
    "problem = constraint.Problem()\n",
    "\n",
    "problem.addVariable('x', range(-6, 7))\n",
    "problem.addVariable('y', range(-6, 7))\n",
    "\n",
    "problem.addConstraint(difference, ['x', 'y'])\n",
    "\n",
    "solutions = problem.getSolutions()\n",
    "\n",
    "length = len(solutions)"
   ]
  },
  {
   "cell_type": "code",
   "execution_count": null,
   "id": "a077accb",
   "metadata": {},
   "outputs": [],
   "source": [
    "cleaned_solutions = []\n",
    "\n",
    "for index, solution in enumerate(solutions):\n",
    "    cleaned_solutions.append(solutions[index])\n",
    "\n",
    "diff_length = len(cleaned_solutions)\n",
    "\n",
    "print(\"\\nPossible Solutions Dataset for Positive Difference Code: \\n(x,y) ∈ {\", end=\"\")\n",
    "for index, solution in enumerate(cleaned_solutions):\n",
    "    if index == diff_length - 1:\n",
    "        print(\"({},{})\".format(solution['x'], solution['y']), end=\"\")\n",
    "    else:\n",
    "        print(\"({},{}),\".format(solution['x'], solution['y']), end=\"\")\n",
    "print(\"}\\n\")"
   ]
  },
  {
   "cell_type": "code",
   "execution_count": null,
   "id": "6a1d6f03",
   "metadata": {
    "scrolled": true
   },
   "outputs": [],
   "source": [
    "print(f\"Positive Difference - PaDMTP - Test Cases: {diff_length}\")"
   ]
  },
  {
   "cell_type": "code",
   "execution_count": null,
   "id": "b0af888b",
   "metadata": {},
   "outputs": [],
   "source": [
    "mutPyObj = 'mut.py --target testcodes.difference --unit-test mutations.test_difference_padmt -m'\n",
    "\n",
    "diffCodeResults = padmtp_algo(difference, cleaned_solutions, mutPyObj)"
   ]
  },
  {
   "cell_type": "code",
   "execution_count": null,
   "id": "cc408588",
   "metadata": {},
   "outputs": [],
   "source": [
    "diffCodeResults['PaDMTP_Overhead']"
   ]
  },
  {
   "cell_type": "code",
   "execution_count": null,
   "id": "c69fbf25",
   "metadata": {},
   "outputs": [],
   "source": [
    "diffCodeResults['PaDMTP_DataFrame']"
   ]
  },
  {
   "cell_type": "markdown",
   "id": "ddd24f8d",
   "metadata": {},
   "source": [
    "### Random Testing (RT)"
   ]
  },
  {
   "cell_type": "code",
   "execution_count": null,
   "id": "4564e43e",
   "metadata": {},
   "outputs": [],
   "source": [
    "# Generating random inputs\n",
    "rt_test_cases = []\n",
    "for i in range(diff_length):\n",
    "    x = random.randint(-100, 101)\n",
    "    y = random.randint(-100, 101)\n",
    "    \n",
    "    rt_test_cases.append((x, y))"
   ]
  },
  {
   "cell_type": "code",
   "execution_count": null,
   "id": "5498525d",
   "metadata": {},
   "outputs": [],
   "source": [
    "print(f\"Positive Difference - Random Testing - Test Cases: {len(rt_test_cases)}\")"
   ]
  },
  {
   "cell_type": "code",
   "execution_count": null,
   "id": "c9478469",
   "metadata": {},
   "outputs": [],
   "source": [
    "# Saving RT Test Cases to JSON File\n",
    "\n",
    "jsonString = json.dumps(rt_test_cases)\n",
    "jsonFile = open(\"./temp/RT_Test_Cases.json\", 'w')\n",
    "jsonFile.write(jsonString)\n",
    "jsonFile.close()"
   ]
  },
  {
   "cell_type": "code",
   "execution_count": null,
   "id": "cd70385b",
   "metadata": {
    "scrolled": true
   },
   "outputs": [],
   "source": [
    "pytest_cmd = 'pytest techniques/rt_difference.py'\n",
    "mutpy_cmd = 'mut.py --target testcodes.difference --unit-test mutations.test_difference_rt -m'\n",
    "\n",
    "rt_rslt = random_testing(pytest_cmd, mutpy_cmd, rt_test_cases)"
   ]
  },
  {
   "cell_type": "code",
   "execution_count": null,
   "id": "d5746c2f",
   "metadata": {},
   "outputs": [],
   "source": [
    "rt_rslt['RT_Overhead']"
   ]
  },
  {
   "cell_type": "code",
   "execution_count": null,
   "id": "2fb3d5c6",
   "metadata": {},
   "outputs": [],
   "source": [
    "rt_rslt['RT_DataFrame']"
   ]
  },
  {
   "cell_type": "markdown",
   "id": "c4cc3412",
   "metadata": {},
   "source": [
    "### Adaptive Random Testing (ART)"
   ]
  },
  {
   "cell_type": "code",
   "execution_count": null,
   "id": "a5ecbf63",
   "metadata": {},
   "outputs": [],
   "source": [
    "# Generating random inputs\n",
    "art_test_cases = []\n",
    "for i in range(diff_length):\n",
    "    x = random.randint(-100, 101)\n",
    "    y = random.randint(-100, 101)\n",
    "    \n",
    "    art_test_cases.append([x, y])"
   ]
  },
  {
   "cell_type": "code",
   "execution_count": null,
   "id": "8f91465c",
   "metadata": {},
   "outputs": [],
   "source": [
    "print(f\"Positive Difference - Adaptive Random Testing - Test Cases: {len(art_test_cases)}\")"
   ]
  },
  {
   "cell_type": "code",
   "execution_count": null,
   "id": "70ff4443",
   "metadata": {},
   "outputs": [],
   "source": [
    "mutpy_cmd = 'mut.py --target testcodes.difference --unit-test mutations.test_difference_art -m'\n",
    "\n",
    "art_rslt = adaptive_random_testing(difference, mutpy_cmd, art_test_cases, 'DIFF')"
   ]
  },
  {
   "cell_type": "code",
   "execution_count": null,
   "id": "3478520c",
   "metadata": {},
   "outputs": [],
   "source": [
    "art_rslt['ART_Overhead']"
   ]
  },
  {
   "cell_type": "code",
   "execution_count": null,
   "id": "469c82e2",
   "metadata": {},
   "outputs": [],
   "source": [
    "art_rslt['ART_DataFrame']"
   ]
  }
 ],
 "metadata": {
  "kernelspec": {
   "display_name": "Python 3 (ipykernel)",
   "language": "python",
   "name": "python3"
  },
  "language_info": {
   "codemirror_mode": {
    "name": "ipython",
    "version": 3
   },
   "file_extension": ".py",
   "mimetype": "text/x-python",
   "name": "python",
   "nbconvert_exporter": "python",
   "pygments_lexer": "ipython3",
   "version": "3.11.2"
  }
 },
 "nbformat": 4,
 "nbformat_minor": 5
}
