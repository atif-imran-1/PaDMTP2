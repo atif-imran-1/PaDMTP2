{
 "cells": [
  {
   "cell_type": "markdown",
   "id": "f6c52230",
   "metadata": {},
   "source": [
    "# MyCode Function"
   ]
  },
  {
   "cell_type": "code",
   "execution_count": null,
   "id": "de8d6d2a",
   "metadata": {},
   "outputs": [],
   "source": [
    "import json\n",
    "import random\n",
    "import constraint\n",
    "from techniques.PaDMTP import padmtp_algo\n",
    "from techniques.RandomTesting import random_testing\n",
    "from testcodes.originalCode import code as MyCode\n",
    "from techniques.AdaptiveRandomTesting import adaptive_random_testing"
   ]
  },
  {
   "cell_type": "markdown",
   "id": "a72a02e4",
   "metadata": {},
   "source": [
    "### PaDMTP"
   ]
  },
  {
   "cell_type": "code",
   "execution_count": null,
   "id": "a7aa5e78",
   "metadata": {},
   "outputs": [],
   "source": [
    "problem = constraint.Problem()\n",
    "\n",
    "problem.addVariable('x', range(-6, 7))\n",
    "problem.addVariable('y', range(-6, 7))\n",
    "\n",
    "problem.addConstraint(MyCode, ['x', 'y'])\n",
    "\n",
    "solutions = problem.getSolutions()\n",
    "\n",
    "length = len(solutions)"
   ]
  },
  {
   "cell_type": "code",
   "execution_count": null,
   "id": "196f2b7a",
   "metadata": {
    "scrolled": true
   },
   "outputs": [],
   "source": [
    "# Cleaning Dataset where values of 'x' or 'y' are 0(zero)\n",
    "\n",
    "cleaned_solutions = []\n",
    "\n",
    "for index, solution in enumerate(solutions):\n",
    "    if solution['x'] == 0 or solution['y'] == 0:\n",
    "        continue\n",
    "    else:\n",
    "        cleaned_solutions.append(solutions[index])\n",
    "        \n",
    "original_length = len(cleaned_solutions)\n",
    "\n",
    "print(\"\\nCleaned Possible Solutions Dataset: \\n(x,y) ∈ {\", end=\"\")\n",
    "for index, solution in enumerate(cleaned_solutions):\n",
    "    if index == original_length - 1:\n",
    "        print(\"({},{})\".format(solution['x'], solution['y']), end=\"\")\n",
    "    else:\n",
    "        print(\"({},{}),\".format(solution['x'], solution['y']), end=\"\")\n",
    "print(\"}\\n\")"
   ]
  },
  {
   "cell_type": "code",
   "execution_count": null,
   "id": "96a71265",
   "metadata": {},
   "outputs": [],
   "source": [
    "print(f\"MyCode - PaDMTP - Test Cases: {original_length}\")"
   ]
  },
  {
   "cell_type": "code",
   "execution_count": null,
   "id": "a7e2f233",
   "metadata": {
    "scrolled": true
   },
   "outputs": [],
   "source": [
    "mutPyObj = 'mut.py --target testcodes.originalCode --unit-test mutations.test_original_padmt -m'\n",
    "\n",
    "padmtp_rslt = padmtp_algo(MyCode, cleaned_solutions, mutPyObj)"
   ]
  },
  {
   "cell_type": "code",
   "execution_count": null,
   "id": "9d671b69",
   "metadata": {},
   "outputs": [],
   "source": [
    "padmtp_rslt['PaDMTP_Overhead']"
   ]
  },
  {
   "cell_type": "code",
   "execution_count": null,
   "id": "ab5a6544",
   "metadata": {
    "scrolled": true
   },
   "outputs": [],
   "source": [
    "padmtp_rslt['PaDMTP_DataFrame']"
   ]
  },
  {
   "cell_type": "code",
   "execution_count": null,
   "id": "e2659155",
   "metadata": {},
   "outputs": [],
   "source": [
    "PaDMTP_MT_Scores = []\n",
    "\n",
    "for index, row in padmtp_rslt['PaDMTP_DataFrame'].iterrows():\n",
    "    val = row['MT Score']\n",
    "    val = val.replace(\"%\", \"\")\n",
    "    val = float(val) / 100\n",
    "    val = round(val, 3)\n",
    "    \n",
    "    PaDMTP_MT_Scores.append(val)"
   ]
  },
  {
   "cell_type": "markdown",
   "id": "4de8ad45",
   "metadata": {},
   "source": [
    "### Random Testing (RT)"
   ]
  },
  {
   "cell_type": "code",
   "execution_count": null,
   "id": "1902e51b",
   "metadata": {},
   "outputs": [],
   "source": [
    "# Generating random inputs\n",
    "rt_test_cases = []\n",
    "for i in range(original_length):\n",
    "    x = random.randint(-100, 101)\n",
    "    y = random.randint(-100, 101)\n",
    "    \n",
    "    rt_test_cases.append([x, y])"
   ]
  },
  {
   "cell_type": "code",
   "execution_count": null,
   "id": "f948cf6e",
   "metadata": {},
   "outputs": [],
   "source": [
    "print(f\"MyCode - Random Testing - Test Cases: {len(rt_test_cases)}\")"
   ]
  },
  {
   "cell_type": "code",
   "execution_count": null,
   "id": "357310a2",
   "metadata": {},
   "outputs": [],
   "source": [
    "# Saving RT Test Cases to JSON File\n",
    "\n",
    "jsonString = json.dumps(rt_test_cases)\n",
    "jsonFile = open(\"./temp/RT_Test_Cases.json\", 'w')\n",
    "jsonFile.write(jsonString)\n",
    "jsonFile.close()"
   ]
  },
  {
   "cell_type": "code",
   "execution_count": null,
   "id": "8124d209",
   "metadata": {
    "scrolled": true
   },
   "outputs": [],
   "source": [
    "pytest_cmd = 'pytest techniques/rt_original.py'\n",
    "mutpy_cmd = 'mut.py --target testcodes.originalCode --unit-test mutations.test_original_rt -m'\n",
    "\n",
    "rt_rslt = random_testing(pytest_cmd, mutpy_cmd, rt_test_cases)"
   ]
  },
  {
   "cell_type": "code",
   "execution_count": null,
   "id": "58f0fc71",
   "metadata": {},
   "outputs": [],
   "source": [
    "rt_rslt['RT_Overhead']"
   ]
  },
  {
   "cell_type": "code",
   "execution_count": null,
   "id": "5192c855",
   "metadata": {
    "scrolled": true
   },
   "outputs": [],
   "source": [
    "rt_rslt['RT_DataFrame']"
   ]
  },
  {
   "cell_type": "code",
   "execution_count": null,
   "id": "77eb9b2a",
   "metadata": {},
   "outputs": [],
   "source": [
    "RT_MT_Scores = []\n",
    "\n",
    "for index, row in rt_rslt['RT_DataFrame'].iterrows():\n",
    "    val = row['MT Score']\n",
    "    val = val.replace(\"%\", \"\")\n",
    "    val = float(val) / 100\n",
    "    val = round(val, 3)\n",
    "    \n",
    "    RT_MT_Scores.append(val)"
   ]
  },
  {
   "cell_type": "markdown",
   "id": "a1815b07",
   "metadata": {},
   "source": [
    "### Adaptive Random Testing (ART)"
   ]
  },
  {
   "cell_type": "code",
   "execution_count": null,
   "id": "995c7205",
   "metadata": {},
   "outputs": [],
   "source": [
    "# Generating random inputs\n",
    "art_test_cases = []\n",
    "for i in range(original_length):\n",
    "    x = random.randint(-100, 101)\n",
    "    y = random.randint(-100, 101)\n",
    "    \n",
    "    art_test_cases.append([x, y])"
   ]
  },
  {
   "cell_type": "code",
   "execution_count": null,
   "id": "72ff63ae",
   "metadata": {},
   "outputs": [],
   "source": [
    "print(f\"MyCode - Adaptive Random Testing - Test Cases: {len(art_test_cases)}\")"
   ]
  },
  {
   "cell_type": "code",
   "execution_count": null,
   "id": "e3b4db1d",
   "metadata": {
    "scrolled": true
   },
   "outputs": [],
   "source": [
    "mutpy_cmd = 'mut.py --target testcodes.originalCode --unit-test mutations.test_original_art -m'\n",
    "\n",
    "art_rslt = adaptive_random_testing(MyCode, mutpy_cmd, art_test_cases, 'MyCode')"
   ]
  },
  {
   "cell_type": "code",
   "execution_count": null,
   "id": "200fa587",
   "metadata": {},
   "outputs": [],
   "source": [
    "art_rslt['ART_Overhead']"
   ]
  },
  {
   "cell_type": "code",
   "execution_count": null,
   "id": "c9d6d77f",
   "metadata": {},
   "outputs": [],
   "source": [
    "art_rslt['ART_DataFrame']"
   ]
  },
  {
   "cell_type": "code",
   "execution_count": null,
   "id": "45d301ad",
   "metadata": {},
   "outputs": [],
   "source": [
    "ART_MT_Scores = []\n",
    "\n",
    "for index, row in art_rslt['ART_DataFrame'].iterrows():\n",
    "    val = row['MT Score']\n",
    "    val = val.replace(\"%\", \"\")\n",
    "    val = float(val) / 100\n",
    "    val = round(val, 3)\n",
    "    \n",
    "    ART_MT_Scores.append(val)"
   ]
  },
  {
   "cell_type": "markdown",
   "id": "d993dc7f",
   "metadata": {},
   "source": [
    "### Pairwise T-Test"
   ]
  },
  {
   "cell_type": "code",
   "execution_count": null,
   "id": "163a6ba8",
   "metadata": {},
   "outputs": [],
   "source": [
    "import numpy as np\n",
    "from scipy.stats import ttest_rel\n",
    "from tabulate import tabulate\n",
    "\n",
    "PaDMTP = np.array(PaDMTP_MT_Scores)\n",
    "RT = np.array(RT_MT_Scores)\n",
    "ART = np.array(ART_MT_Scores)\n",
    "\n",
    "# Perform pairwise t-tests\n",
    "t_stat_PaDMTP_RT, p_value_PaDMTP_RT = ttest_rel(PaDMTP, RT)\n",
    "t_stat_PaDMTP_ART, p_value_PaDMTP_ART = ttest_rel(PaDMTP, ART)\n",
    "\n",
    "# Create Table 1\n",
    "table1_data = [\n",
    "    [\"Test\", \"Mean\", \"Variance\", \"Observations\", \"df\", \"t Stat\"],\n",
    "    [\"PaDMTP vs RT\", np.mean(PaDMTP), np.var(PaDMTP), len(PaDMTP), len(PaDMTP) - 1, t_stat_PaDMTP_RT],\n",
    "    [\"PaDMTP vs ART\", np.mean(PaDMTP), np.var(PaDMTP), len(PaDMTP), len(PaDMTP) - 1, t_stat_PaDMTP_ART]\n",
    "]\n",
    "table1 = tabulate(table1_data, headers=\"firstrow\", tablefmt=\"grid\")\n",
    "\n",
    "# Create Table 2\n",
    "table2_data = [\n",
    "    [\"Test\", \"P(T<=t) one-tail\", \"t Critical one-tail\", \"P(T<=t) two-tail\", \"t Critical two-tail\"],\n",
    "    [\"PaDMTP vs RT\", p_value_PaDMTP_RT/2, -abs(t_stat_PaDMTP_RT), p_value_PaDMTP_RT, -abs(t_stat_PaDMTP_RT)],\n",
    "    [\"PaDMTP vs ART\", p_value_PaDMTP_ART/2, -abs(t_stat_PaDMTP_ART), p_value_PaDMTP_ART, -abs(t_stat_PaDMTP_ART)]\n",
    "]\n",
    "table2 = tabulate(table2_data, headers=\"firstrow\", tablefmt=\"grid\")\n",
    "\n",
    "# Print the tables\n",
    "print(\"Table 1:\")\n",
    "print(table1)\n",
    "print()\n",
    "print(\"Table 2:\")\n",
    "print(table2)\n",
    "\n",
    "# Perform pairwise t-tests\n",
    "t_stat_PaDMTP_RT, p_value_PaDMTP_RT = ttest_rel(PaDMTP, RT)\n",
    "t_stat_PaDMTP_ART, p_value_PaDMTP_ART = ttest_rel(PaDMTP, ART)\n",
    "\n",
    "# Print the results\n",
    "print(\"\\n\\nPaDMTP vs RT:\")\n",
    "print(\"t-statistic:\", t_stat_PaDMTP_RT)\n",
    "print(\"p-value:\", p_value_PaDMTP_RT)\n",
    "\n",
    "print(\"\\nPaDMTP vs ART:\")\n",
    "print(\"t-statistic:\", t_stat_PaDMTP_ART)\n",
    "print(\"p-value:\", p_value_PaDMTP_ART)"
   ]
  }
 ],
 "metadata": {
  "kernelspec": {
   "display_name": "Python 3 (ipykernel)",
   "language": "python",
   "name": "python3"
  },
  "language_info": {
   "codemirror_mode": {
    "name": "ipython",
    "version": 3
   },
   "file_extension": ".py",
   "mimetype": "text/x-python",
   "name": "python",
   "nbconvert_exporter": "python",
   "pygments_lexer": "ipython3",
   "version": "3.11.2"
  }
 },
 "nbformat": 4,
 "nbformat_minor": 5
}
