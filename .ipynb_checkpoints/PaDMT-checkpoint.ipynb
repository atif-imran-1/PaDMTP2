{
 "cells": [
  {
   "cell_type": "code",
   "execution_count": null,
   "id": "de8d6d2a",
   "metadata": {},
   "outputs": [],
   "source": [
    "import constraint\n",
    "import random\n",
    "from testcodes.originalCode import code as originalCode\n",
    "from testcodes.hcf import compute_hcf as hcf\n",
    "from testcodes.lcm import compute_lcm as lcm\n",
    "from testcodes.difference import positive_difference as difference\n",
    "from project import padmt_algo"
   ]
  },
  {
   "cell_type": "markdown",
   "id": "a72a02e4",
   "metadata": {},
   "source": [
    "## Original Code"
   ]
  },
  {
   "cell_type": "code",
   "execution_count": null,
   "id": "a7aa5e78",
   "metadata": {},
   "outputs": [],
   "source": [
    "problem = constraint.Problem()\n",
    "\n",
    "problem.addVariable('x', range(-6, 6))\n",
    "problem.addVariable('y', range(-6, 6))\n",
    "\n",
    "problem.addConstraint(originalCode, ['x', 'y'])\n",
    "\n",
    "solutions = problem.getSolutions()\n",
    "\n",
    "length = len(solutions)"
   ]
  },
  {
   "cell_type": "code",
   "execution_count": null,
   "id": "196f2b7a",
   "metadata": {
    "scrolled": true
   },
   "outputs": [],
   "source": [
    "# Cleaning Dataset where values of 'x' or 'y' are 0(zero)\n",
    "\n",
    "cleaned_solutions = []\n",
    "\n",
    "for index, solution in enumerate(solutions):\n",
    "    if solution['x'] == 0 or solution['y'] == 0:\n",
    "        continue\n",
    "    else:\n",
    "        cleaned_solutions.append(solutions[index])\n",
    "        \n",
    "length = len(cleaned_solutions)\n",
    "\n",
    "print(\"\\nCleaned Possible Solutions Dataset: \\n(x,y) ∈ {\", end=\"\")\n",
    "for index, solution in enumerate(cleaned_solutions):\n",
    "    if index == length - 1:\n",
    "        print(\"({},{})\".format(solution['x'], solution['y']), end=\"\")\n",
    "    else:\n",
    "        print(\"({},{}),\".format(solution['x'], solution['y']), end=\"\")\n",
    "print(\"}\\n\")"
   ]
  },
  {
   "cell_type": "code",
   "execution_count": null,
   "id": "5de04d7e",
   "metadata": {},
   "outputs": [],
   "source": [
    "print(f\"MyCode Test Cases: {lenght}\")"
   ]
  },
  {
   "cell_type": "code",
   "execution_count": null,
   "id": "a7e2f233",
   "metadata": {
    "scrolled": true
   },
   "outputs": [],
   "source": [
    "mutPyObj = [\n",
    "    'mut.py --target testcodes.originalCode --unit-test mutations.test_original_padmt -m',\n",
    "    'mut.py --target testcodes.originalCode --unit-test mutations.test_original_rt -m',\n",
    "    'mut.py --target testcodes.originalCode --unit-test mutations.test_original_art -m',\n",
    "    'mut.py --target testcodes.originalCode --unit-test mutations.test_original_dse -m',\n",
    "]\n",
    "\n",
    "originalCodeResults = padmt_algo(originalCode, cleaned_solutions, mutPyObj, 'original')"
   ]
  },
  {
   "cell_type": "markdown",
   "id": "17355631",
   "metadata": {},
   "source": [
    "## HCF Code"
   ]
  },
  {
   "cell_type": "code",
   "execution_count": null,
   "id": "a93e0e49",
   "metadata": {},
   "outputs": [],
   "source": [
    "problem = constraint.Problem()\n",
    "\n",
    "problem.addVariable('x', range(1, 15))\n",
    "problem.addVariable('y', range(1, 15))\n",
    "\n",
    "problem.addConstraint(hcf, ['x', 'y'])\n",
    "\n",
    "solutions = problem.getSolutions()\n",
    "\n",
    "length = len(solutions)"
   ]
  },
  {
   "cell_type": "code",
   "execution_count": null,
   "id": "0c51f418",
   "metadata": {},
   "outputs": [],
   "source": [
    "cleaned_solutions = []\n",
    "\n",
    "for index, solution in enumerate(solutions):\n",
    "    cleaned_solutions.append(solutions[index])\n",
    "    \n",
    "length = len(cleaned_solutions)\n",
    "\n",
    "print(\"\\nPossible Solutions Dataset for HCF Code: \\n(x,y) ∈ {\", end=\"\")\n",
    "for index, solution in enumerate(cleaned_solutions):\n",
    "    if index == length - 1:\n",
    "        print(\"({},{})\".format(solution['x'], solution['y']), end=\"\")\n",
    "    else:\n",
    "        print(\"({},{}),\".format(solution['x'], solution['y']), end=\"\")\n",
    "print(\"}\\n\")"
   ]
  },
  {
   "cell_type": "code",
   "execution_count": null,
   "id": "d607a760",
   "metadata": {},
   "outputs": [],
   "source": [
    "print(f\"HCF Test Cases: {lenght}\")"
   ]
  },
  {
   "cell_type": "code",
   "execution_count": null,
   "id": "baa97909",
   "metadata": {
    "scrolled": true
   },
   "outputs": [],
   "source": [
    "mutPyObj = [\n",
    "    'mut.py --target testcodes.hcf --unit-test mutations.test_hcf_padmt -m',\n",
    "    'mut.py --target testcodes.hcf --unit-test mutations.test_hcf_rt -m',\n",
    "    'mut.py --target testcodes.hcf --unit-test mutations.test_hcf_art -m',\n",
    "    'mut.py --target testcodes.hcf --unit-test mutations.test_hcf_dse -m',\n",
    "]\n",
    "\n",
    "hcfCodeResults = padmt_algo(hcf, cleaned_solutions, mutPyObj, 'hcf')"
   ]
  },
  {
   "cell_type": "markdown",
   "id": "ab399f00",
   "metadata": {},
   "source": [
    "## LCM Code"
   ]
  },
  {
   "cell_type": "code",
   "execution_count": null,
   "id": "368e9ec2",
   "metadata": {},
   "outputs": [],
   "source": [
    "problem = constraint.Problem()\n",
    "\n",
    "problem.addVariable('x', range(1, 15))\n",
    "problem.addVariable('y', range(1, 15))\n",
    "\n",
    "problem.addConstraint(lcm, ['x', 'y'])\n",
    "\n",
    "solutions = problem.getSolutions()\n",
    "\n",
    "length = len(solutions)"
   ]
  },
  {
   "cell_type": "code",
   "execution_count": null,
   "id": "15b4f2e1",
   "metadata": {},
   "outputs": [],
   "source": [
    "# Cleaning Dataset where values of 'x' or 'y' are 0(zero)\n",
    "\n",
    "cleaned_solutions = []\n",
    "\n",
    "for index, solution in enumerate(solutions):\n",
    "    if solution['x'] == 0 or solution['y'] == 0:\n",
    "        continue\n",
    "    else:\n",
    "        cleaned_solutions.append(solutions[index])\n",
    "        \n",
    "length = len(cleaned_solutions)\n",
    "\n",
    "print(\"\\nPossible Solutions Dataset for LCM Code: \\n(x,y) ∈ {\", end=\"\")\n",
    "for index, solution in enumerate(cleaned_solutions):\n",
    "    if index == length - 1:\n",
    "        print(\"({},{})\".format(solution['x'], solution['y']), end=\"\")\n",
    "    else:\n",
    "        print(\"({},{}),\".format(solution['x'], solution['y']), end=\"\")\n",
    "print(\"}\\n\")"
   ]
  },
  {
   "cell_type": "code",
   "execution_count": null,
   "id": "3236b260",
   "metadata": {
    "scrolled": true
   },
   "outputs": [],
   "source": [
    "mutPyObj = [\n",
    "    'mut.py --target testcodes.lcm --unit-test mutations.test_lcm_padmt -m',\n",
    "    'mut.py --target testcodes.lcm --unit-test mutations.test_lcm_rt -m',\n",
    "    'mut.py --target testcodes.lcm --unit-test mutations.test_lcm_art -m',\n",
    "    'mut.py --target testcodes.lcm --unit-test mutations.test_lcm_dse -m',\n",
    "]\n",
    "\n",
    "lcmCodeResults = padmt_algo(lcm, cleaned_solutions, mutPyObj, 'lcm')"
   ]
  },
  {
   "cell_type": "markdown",
   "id": "4de8ad45",
   "metadata": {},
   "source": [
    "## Positive Difference Code"
   ]
  },
  {
   "cell_type": "code",
   "execution_count": null,
   "id": "1902e51b",
   "metadata": {},
   "outputs": [],
   "source": [
    "problem = constraint.Problem()\n",
    "\n",
    "problem.addVariable('x', range(1, 15))\n",
    "problem.addVariable('y', range(1, 15))\n",
    "\n",
    "problem.addConstraint(difference, ['x', 'y'])\n",
    "\n",
    "solutions = problem.getSolutions()\n",
    "\n",
    "length = len(solutions)"
   ]
  },
  {
   "cell_type": "code",
   "execution_count": null,
   "id": "8124d209",
   "metadata": {},
   "outputs": [],
   "source": [
    "cleaned_solutions = []\n",
    "\n",
    "for index, solution in enumerate(solutions):\n",
    "    cleaned_solutions.append(solutions[index])\n",
    "\n",
    "print(\"\\nPossible Solutions Dataset for Positive Difference Code: \\n(x,y) ∈ {\", end=\"\")\n",
    "for index, solution in enumerate(cleaned_solutions):\n",
    "    if index == length - 1:\n",
    "        print(\"({},{})\".format(solution['x'], solution['y']), end=\"\")\n",
    "    else:\n",
    "        print(\"({},{}),\".format(solution['x'], solution['y']), end=\"\")\n",
    "print(\"}\\n\")"
   ]
  },
  {
   "cell_type": "code",
   "execution_count": null,
   "id": "f498c496",
   "metadata": {
    "scrolled": true
   },
   "outputs": [],
   "source": [
    "mutPyObj = [\n",
    "    'mut.py --target testcodes.difference --unit-test mutations.test_difference_padmt -m',\n",
    "    'mut.py --target testcodes.difference --unit-test mutations.test_difference_rt -m',\n",
    "    'mut.py --target testcodes.difference --unit-test mutations.test_difference_art -m',\n",
    "    'mut.py --target testcodes.difference --unit-test mutations.test_difference_dse -m',\n",
    "]\n",
    "\n",
    "hcfCodeResults = padmt_algo(difference, cleaned_solutions, mutPyObj, 'difference')"
   ]
  },
  {
   "cell_type": "code",
   "execution_count": null,
   "id": "c9d6d77f",
   "metadata": {},
   "outputs": [],
   "source": []
  }
 ],
 "metadata": {
  "kernelspec": {
   "display_name": "Python 3 (ipykernel)",
   "language": "python",
   "name": "python3"
  },
  "language_info": {
   "codemirror_mode": {
    "name": "ipython",
    "version": 3
   },
   "file_extension": ".py",
   "mimetype": "text/x-python",
   "name": "python",
   "nbconvert_exporter": "python",
   "pygments_lexer": "ipython3",
   "version": "3.11.2"
  }
 },
 "nbformat": 4,
 "nbformat_minor": 5
}
